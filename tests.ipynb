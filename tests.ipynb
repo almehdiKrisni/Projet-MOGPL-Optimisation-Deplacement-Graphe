{
 "cells": [
  {
   "cell_type": "code",
   "execution_count": 41,
   "id": "db7655b2-3f55-41af-b779-723bf6ab67c2",
   "metadata": {},
   "outputs": [],
   "source": [
    "import algorithmesChemin as ac\n",
    "import optimisation as opt\n",
    "import util as ut\n",
    "import numpy as np\n",
    "import time\n",
    "import matplotlib.pyplot as plt"
   ]
  },
  {
   "cell_type": "code",
   "execution_count": 2,
   "id": "c5f17dc2-8b7d-40a0-9e39-b66f778f3e24",
   "metadata": {},
   "outputs": [],
   "source": [
    "a = ut.generationMultigraphe(30,50,14)\n",
    "b = ut.generationMultigraphe(30,50,14)\n",
    "x = [a,b]"
   ]
  },
  {
   "cell_type": "code",
   "execution_count": 25,
   "id": "644ad32c-9dfc-40ba-901b-47383fb3be3b",
   "metadata": {},
   "outputs": [
    {
     "name": "stdout",
     "output_type": "stream",
     "text": [
      "found for 16 sommets, 16 arretes\n",
      "nb_tests: 7\n",
      "found for 16 sommets, 32 arretes\n",
      "nb_tests: 25\n",
      "found for 16 sommets, 64 arretes\n",
      "nb_tests: 3\n",
      "found for 16 sommets, 128 arretes\n",
      "nb_tests: 2\n",
      "found for 16 sommets, 256 arretes\n",
      "nb_tests: 1\n",
      "found for 32 sommets, 16 arretes\n",
      "nb_tests: 19\n",
      "found for 32 sommets, 32 arretes\n",
      "nb_tests: 16\n",
      "found for 32 sommets, 64 arretes\n",
      "nb_tests: 11\n",
      "found for 32 sommets, 128 arretes\n",
      "nb_tests: 2\n",
      "found for 32 sommets, 256 arretes\n",
      "nb_tests: 2\n",
      "found for 64 sommets, 16 arretes\n",
      "nb_tests: 404\n",
      "found for 64 sommets, 32 arretes\n",
      "nb_tests: 2\n",
      "found for 64 sommets, 64 arretes\n",
      "nb_tests: 29\n",
      "found for 64 sommets, 128 arretes\n",
      "nb_tests: 26\n",
      "found for 64 sommets, 256 arretes\n",
      "nb_tests: 3\n",
      "found for 128 sommets, 16 arretes\n",
      "nb_tests: 782\n",
      "found for 128 sommets, 32 arretes\n",
      "nb_tests: 45\n",
      "found for 128 sommets, 64 arretes\n",
      "nb_tests: 361\n",
      "found for 128 sommets, 128 arretes\n",
      "nb_tests: 13\n",
      "found for 128 sommets, 256 arretes\n",
      "nb_tests: 82\n",
      "found for 256 sommets, 16 arretes\n",
      "nb_tests: 1563\n",
      "found for 256 sommets, 32 arretes\n",
      "nb_tests: 3112\n",
      "found for 256 sommets, 64 arretes\n",
      "nb_tests: 809\n",
      "found for 256 sommets, 128 arretes\n",
      "nb_tests: 98\n",
      "found for 256 sommets, 256 arretes\n",
      "nb_tests: 84\n"
     ]
    }
   ],
   "source": [
    "y = np.zeros((8,8), dtype=object)\n",
    "for i, nb_sommets in enumerate([2**p for p in range(4,9)]):\n",
    "    for j, nb_arretes in enumerate([2**p for p in range(4,9)]):\n",
    "        y[i,j] = ut.generationMultigraphe(nb_sommets,nb_arretes,20)\n",
    "        nb_tests = 1\n",
    "        while not ut.testExistanceChemin(y[i,j],'a','k'):\n",
    "            y[i,j] = ut.generationMultigraphe(nb_sommets,nb_arretes,20)\n",
    "            nb_tests +=1\n",
    "        print(\"found for\", nb_sommets,\"sommets,\", nb_arretes, \"arretes\")\n",
    "        print(\"nb_tests:\", nb_tests)"
   ]
  },
  {
   "cell_type": "code",
   "execution_count": 26,
   "id": "8e47c8a6-c730-40b7-995d-af21ac1f34fa",
   "metadata": {},
   "outputs": [
    {
     "data": {
      "text/plain": [
       "{'a': [('e', 6, 1), ('l', 13, 1), ('k', 6, 1)],\n",
       " 'b': [('f', 13, 1)],\n",
       " 'c': [('e', 1, 1)],\n",
       " 'd': [('h', 4, 1)],\n",
       " 'e': [('n', 4, 1), ('m', 11, 1)],\n",
       " 'f': [],\n",
       " 'g': [('d', 1, 1)],\n",
       " 'h': [],\n",
       " 'i': [],\n",
       " 'j': [],\n",
       " 'k': [('g', 6, 1)],\n",
       " 'l': [],\n",
       " 'm': [],\n",
       " 'n': [('m', 12, 1), ('b', 13, 1), ('g', 2, 1), ('l', 6, 1)],\n",
       " 'o': [],\n",
       " 'p': [('b', 2, 1), ('k', 19, 1)]}"
      ]
     },
     "execution_count": 26,
     "metadata": {},
     "output_type": "execute_result"
    }
   ],
   "source": [
    "y[0,0]"
   ]
  },
  {
   "cell_type": "code",
   "execution_count": 38,
   "id": "9ca86abc-f6e0-44f1-ac21-d504c763a2f8",
   "metadata": {},
   "outputs": [
    {
     "name": "stdout",
     "output_type": "stream",
     "text": [
      "sommets: 0\n",
      "arcs: 0\n",
      "arcs: 1\n",
      "arcs: 2\n",
      "arcs: 3\n",
      "arcs: 4\n",
      "sommets: 1\n",
      "arcs: 0\n",
      "arcs: 1\n",
      "arcs: 2\n",
      "arcs: 3\n",
      "arcs: 4\n",
      "sommets: 2\n",
      "arcs: 0\n",
      "arcs: 1\n",
      "arcs: 2\n",
      "arcs: 3\n",
      "arcs: 4\n",
      "sommets: 3\n",
      "arcs: 0\n",
      "arcs: 1\n",
      "arcs: 2\n",
      "arcs: 3\n",
      "arcs: 4\n",
      "sommets: 4\n",
      "arcs: 0\n",
      "arcs: 1\n",
      "arcs: 2\n",
      "arcs: 3\n",
      "arcs: 4\n"
     ]
    }
   ],
   "source": [
    "z = np.zeros((5,5),dtype=tuple)\n",
    "for nb_sommets in range(5):\n",
    "    print(\"sommets:\",nb_sommets)\n",
    "    for nb_arcs in range(5):\n",
    "        print(\"arcs:\", nb_arcs)\n",
    "        \n",
    "        g = y[nb_sommets, nb_arcs]\n",
    "        \n",
    "        g = ut.transformeGraphe(g,True)\n",
    "        \n",
    "        t0 = time.time()\n",
    "        ac.cheminArriveeAuPlusTot(g,'a','k')\n",
    "        t1 = time.time() - t0\n",
    "        \n",
    "        t0 = time.time()\n",
    "        ac.cheminDepartAuPlusTard(g,'a','k')\n",
    "        t2 = time.time() - t0\n",
    "        \n",
    "        t0 = time.time()\n",
    "        ac.cheminPlusRapide(g,'a','k')\n",
    "        t3 = time.time() - t0\n",
    "        \n",
    "        t0 = time.time()\n",
    "        ac.cheminPlusCourt(g,'a','k')\n",
    "        t4 = time.time() - t0\n",
    "        \n",
    "        z[nb_sommets, nb_arcs] = (t1, t2, t3, t4)"
   ]
  },
  {
   "cell_type": "code",
   "execution_count": 43,
   "id": "cb598374-369f-4351-855a-e630272bd428",
   "metadata": {},
   "outputs": [],
   "source": [
    "a = []\n",
    "for i in range(5):\n",
    "    a.append(z[i,4][1])"
   ]
  },
  {
   "cell_type": "code",
   "execution_count": 44,
   "id": "b827624e-5c5a-4d74-a09c-1868bb365e60",
   "metadata": {},
   "outputs": [
    {
     "data": {
      "text/plain": [
       "[<matplotlib.lines.Line2D at 0x7f43ba85e460>]"
      ]
     },
     "execution_count": 44,
     "metadata": {},
     "output_type": "execute_result"
    },
    {
     "data": {
      "image/png": "[encoded data removed]",
      "text/plain": [
       "<Figure size 432x288 with 1 Axes>"
      ]
     },
     "metadata": {
      "needs_background": "light"
     },
     "output_type": "display_data"
    }
   ],
   "source": [
    "plt.plot(a,[16,32,64,128,256])"
   ]
  }
 ],
 "metadata": {
  "kernelspec": {
   "display_name": "Python 3 (ipykernel)",
   "language": "python",
   "name": "python3"
  },
  "language_info": {
   "codemirror_mode": {
    "name": "ipython",
    "version": 3
   },
   "file_extension": ".py",
   "mimetype": "text/x-python",
   "name": "python",
   "nbconvert_exporter": "python",
   "pygments_lexer": "ipython3",
   "version": "3.8.12"
  }
 },
 "nbformat": 4,
 "nbformat_minor": 5
}
