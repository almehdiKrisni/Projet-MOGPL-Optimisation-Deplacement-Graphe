{
 "cells": [
  {
   "cell_type": "code",
   "execution_count": null,
   "id": "db7655b2-3f55-41af-b779-723bf6ab67c2",
   "metadata": {},
   "outputs": [],
   "source": [
    "import algorithmesChemin as ac\n",
    "import optimisation as opt\n",
    "import util as ut\n",
    "import numpy as np"
   ]
  },
  {
   "cell_type": "code",
   "execution_count": null,
   "id": "c5f17dc2-8b7d-40a0-9e39-b66f778f3e24",
   "metadata": {},
   "outputs": [],
   "source": [
    "a = ut.generationMultigraphe(30,50,14)\n",
    "b = ut.generationMultigraphe(30,50,14)\n",
    "x = [a,b]"
   ]
  },
  {
   "cell_type": "code",
   "execution_count": null,
   "id": "644ad32c-9dfc-40ba-901b-47383fb3be3b",
   "metadata": {},
   "outputs": [],
   "source": [
    "y = np.zeros((8,8), dtype=object)\n",
    "for i, nb_sommets in enumerate([2**p for p in range(4,10)]):\n",
    "    for j, nb_arretes in enumerate([2**p for p in range(4,10)]):\n",
    "        y[i,j] = ut.generationMultigraphe(nb_sommets,nb_arretes,20)\n",
    "        while not ut.testExistanceChemin(y[i,j],'a','k'):\n",
    "            y[i,j] = ut.generationMultigraphe(nb_sommets,nb_arretes,20)\n",
    "        print(\"found for\", nb_sommets,\"sommets,\", nb_arretes, \"arretes\")"
   ]
  }
 ],
 "metadata": {
  "kernelspec": {
   "display_name": "Python 3 (ipykernel)",
   "language": "python",
   "name": "python3"
  },
  "language_info": {
   "codemirror_mode": {
    "name": "ipython",
    "version": 3
   },
   "file_extension": ".py",
   "mimetype": "text/x-python",
   "name": "python",
   "nbconvert_exporter": "python",
   "pygments_lexer": "ipython3",
   "version": "3.8.12"
  }
 },
 "nbformat": 4,
 "nbformat_minor": 5
}
