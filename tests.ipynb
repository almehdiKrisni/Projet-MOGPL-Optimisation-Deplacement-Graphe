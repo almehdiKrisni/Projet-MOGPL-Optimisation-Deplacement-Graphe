{
 "cells": [
  {
   "cell_type": "code",
   "execution_count": 12,
   "id": "db7655b2-3f55-41af-b779-723bf6ab67c2",
   "metadata": {},
   "outputs": [],
   "source": [
    "import algorithmesChemin as ac\n",
    "import optimisation as opt\n",
    "import util as ut\n",
    "import numpy as np\n",
    "import time"
   ]
  },
  {
   "cell_type": "code",
   "execution_count": 2,
   "id": "c5f17dc2-8b7d-40a0-9e39-b66f778f3e24",
   "metadata": {},
   "outputs": [],
   "source": [
    "a = ut.generationMultigraphe(30,50,14)\n",
    "b = ut.generationMultigraphe(30,50,14)\n",
    "x = [a,b]"
   ]
  },
  {
   "cell_type": "code",
   "execution_count": 4,
   "id": "644ad32c-9dfc-40ba-901b-47383fb3be3b",
   "metadata": {},
   "outputs": [
    {
     "name": "stdout",
     "output_type": "stream",
     "text": [
      "found for 16 sommets, 16 arretes\n",
      "found for 16 sommets, 32 arretes\n",
      "found for 16 sommets, 64 arretes\n",
      "found for 16 sommets, 128 arretes\n",
      "found for 32 sommets, 16 arretes\n",
      "found for 32 sommets, 32 arretes\n",
      "found for 32 sommets, 64 arretes\n",
      "found for 32 sommets, 128 arretes\n",
      "found for 64 sommets, 16 arretes\n",
      "found for 64 sommets, 32 arretes\n",
      "found for 64 sommets, 64 arretes\n",
      "found for 64 sommets, 128 arretes\n",
      "found for 128 sommets, 16 arretes\n",
      "found for 128 sommets, 32 arretes\n",
      "found for 128 sommets, 64 arretes\n",
      "found for 128 sommets, 128 arretes\n"
     ]
    }
   ],
   "source": [
    "y = np.zeros((8,8), dtype=object)\n",
    "for i, nb_sommets in enumerate([2**p for p in range(4,8)]):\n",
    "    for j, nb_arretes in enumerate([2**p for p in range(4,8)]):\n",
    "        y[i,j] = ut.generationMultigraphe(nb_sommets,nb_arretes,20)\n",
    "        while not ut.testExistanceChemin(y[i,j],'a','k'):\n",
    "            y[i,j] = ut.generationMultigraphe(nb_sommets,nb_arretes,20)\n",
    "        print(\"found for\", nb_sommets,\"sommets,\", nb_arretes, \"arretes\")"
   ]
  },
  {
   "cell_type": "code",
   "execution_count": 17,
   "id": "8e47c8a6-c730-40b7-995d-af21ac1f34fa",
   "metadata": {},
   "outputs": [
    {
     "data": {
      "text/plain": [
       "{'a': [('k', 1, 1)],\n",
       " 'b': [('m', 2, 1)],\n",
       " 'c': [],\n",
       " 'd': [],\n",
       " 'e': [],\n",
       " 'f': [('bb', 13, 1), ('u', 19, 1), ('cc', 18, 1)],\n",
       " 'g': [('w', 7, 1), ('u', 12, 1), ('z', 10, 1)],\n",
       " 'h': [('g', 13, 1), ('g', 19, 1), ('s', 9, 1)],\n",
       " 'i': [('j', 13, 1)],\n",
       " 'j': [('s', 14, 1)],\n",
       " 'k': [],\n",
       " 'l': [],\n",
       " 'm': [],\n",
       " 'n': [],\n",
       " 'o': [],\n",
       " 'p': [('x', 3, 1), ('t', 18, 1)],\n",
       " 'q': [('u', 10, 1)],\n",
       " 'r': [('cc', 7, 1), ('y', 19, 1)],\n",
       " 's': [('d', 12, 1)],\n",
       " 't': [('l', 7, 1)],\n",
       " 'u': [],\n",
       " 'v': [('r', 17, 1), ('p', 15, 1), ('ff', 4, 1)],\n",
       " 'w': [('dd', 2, 1)],\n",
       " 'x': [('aa', 11, 1)],\n",
       " 'y': [('i', 13, 1), ('dd', 9, 1)],\n",
       " 'z': [('i', 5, 1)],\n",
       " 'aa': [],\n",
       " 'bb': [('i', 10, 1), ('h', 1, 1)],\n",
       " 'cc': [('ee', 13, 1)],\n",
       " 'dd': [],\n",
       " 'ee': [('e', 13, 1)],\n",
       " 'ff': []}"
      ]
     },
     "execution_count": 17,
     "metadata": {},
     "output_type": "execute_result"
    }
   ],
   "source": [
    "y[1,1]"
   ]
  },
  {
   "cell_type": "code",
   "execution_count": 14,
   "id": "9ca86abc-f6e0-44f1-ac21-d504c763a2f8",
   "metadata": {},
   "outputs": [
    {
     "name": "stdout",
     "output_type": "stream",
     "text": [
      "sommets: 0\n",
      "arcs: 0\n"
     ]
    },
    {
     "ename": "ValueError",
     "evalue": "not enough values to unpack (expected 2, got 1)",
     "output_type": "error",
     "traceback": [
      "\u001b[0;31m---------------------------------------------------------------------------\u001b[0m",
      "\u001b[0;31mValueError\u001b[0m                                Traceback (most recent call last)",
      "\u001b[0;32m/tmp/ipykernel_855965/2542452111.py\u001b[0m in \u001b[0;36m<module>\u001b[0;34m\u001b[0m\n\u001b[1;32m      5\u001b[0m         \u001b[0mprint\u001b[0m\u001b[0;34m(\u001b[0m\u001b[0;34m\"arcs:\"\u001b[0m\u001b[0;34m,\u001b[0m \u001b[0mnb_arcs\u001b[0m\u001b[0;34m)\u001b[0m\u001b[0;34m\u001b[0m\u001b[0;34m\u001b[0m\u001b[0m\n\u001b[1;32m      6\u001b[0m         \u001b[0mt0\u001b[0m \u001b[0;34m=\u001b[0m \u001b[0mtime\u001b[0m\u001b[0;34m.\u001b[0m\u001b[0mtime\u001b[0m\u001b[0;34m(\u001b[0m\u001b[0;34m)\u001b[0m\u001b[0;34m\u001b[0m\u001b[0;34m\u001b[0m\u001b[0m\n\u001b[0;32m----> 7\u001b[0;31m         \u001b[0mac\u001b[0m\u001b[0;34m.\u001b[0m\u001b[0mcheminArriveeAuPlusTot\u001b[0m\u001b[0;34m(\u001b[0m\u001b[0my\u001b[0m\u001b[0;34m[\u001b[0m\u001b[0mnb_sommets\u001b[0m\u001b[0;34m,\u001b[0m \u001b[0mnb_arcs\u001b[0m\u001b[0;34m]\u001b[0m\u001b[0;34m,\u001b[0m\u001b[0;34m'a'\u001b[0m\u001b[0;34m,\u001b[0m\u001b[0;34m'k'\u001b[0m\u001b[0;34m)\u001b[0m\u001b[0;34m\u001b[0m\u001b[0;34m\u001b[0m\u001b[0m\n\u001b[0m\u001b[1;32m      8\u001b[0m         \u001b[0mt1\u001b[0m \u001b[0;34m=\u001b[0m \u001b[0mtime\u001b[0m\u001b[0;34m.\u001b[0m\u001b[0mtime\u001b[0m\u001b[0;34m(\u001b[0m\u001b[0;34m)\u001b[0m \u001b[0;34m-\u001b[0m \u001b[0mt0\u001b[0m\u001b[0;34m\u001b[0m\u001b[0;34m\u001b[0m\u001b[0m\n\u001b[1;32m      9\u001b[0m \u001b[0;34m\u001b[0m\u001b[0m\n",
      "\u001b[0;32m~/git/Projet_MOGPL/algorithmesChemin.py\u001b[0m in \u001b[0;36mcheminArriveeAuPlusTot\u001b[0;34m(graphe, start, end)\u001b[0m\n\u001b[1;32m     71\u001b[0m     \u001b[0;31m# On lie le noeud (start, 1) aux autres noeuds de la forme (start, X) du graphe\u001b[0m\u001b[0;34m\u001b[0m\u001b[0;34m\u001b[0m\u001b[0;34m\u001b[0m\u001b[0m\n\u001b[1;32m     72\u001b[0m     \u001b[0;32melse\u001b[0m \u001b[0;34m:\u001b[0m\u001b[0;34m\u001b[0m\u001b[0;34m\u001b[0m\u001b[0m\n\u001b[0;32m---> 73\u001b[0;31m         \u001b[0mlistAcces\u001b[0m \u001b[0;34m=\u001b[0m \u001b[0;34m[\u001b[0m\u001b[0;34m(\u001b[0m\u001b[0mi\u001b[0m\u001b[0;34m,\u001b[0m \u001b[0mj\u001b[0m\u001b[0;34m)\u001b[0m \u001b[0;32mfor\u001b[0m \u001b[0;34m(\u001b[0m\u001b[0mi\u001b[0m\u001b[0;34m,\u001b[0m \u001b[0mj\u001b[0m\u001b[0;34m)\u001b[0m \u001b[0;32min\u001b[0m \u001b[0mlist\u001b[0m\u001b[0;34m(\u001b[0m\u001b[0mgraphe\u001b[0m\u001b[0;34m.\u001b[0m\u001b[0mkeys\u001b[0m\u001b[0;34m(\u001b[0m\u001b[0;34m)\u001b[0m\u001b[0;34m)\u001b[0m \u001b[0;32mif\u001b[0m \u001b[0;34m(\u001b[0m\u001b[0mi\u001b[0m \u001b[0;34m==\u001b[0m \u001b[0mstart\u001b[0m\u001b[0;34m)\u001b[0m\u001b[0;34m]\u001b[0m\u001b[0;34m\u001b[0m\u001b[0;34m\u001b[0m\u001b[0m\n\u001b[0m\u001b[1;32m     74\u001b[0m         \u001b[0mgraphe\u001b[0m\u001b[0;34m[\u001b[0m\u001b[0;34m(\u001b[0m\u001b[0mstart\u001b[0m\u001b[0;34m,\u001b[0m \u001b[0;36m1\u001b[0m\u001b[0;34m)\u001b[0m\u001b[0;34m]\u001b[0m \u001b[0;34m=\u001b[0m \u001b[0mlistAcces\u001b[0m\u001b[0;34m\u001b[0m\u001b[0;34m\u001b[0m\u001b[0m\n\u001b[1;32m     75\u001b[0m \u001b[0;34m\u001b[0m\u001b[0m\n",
      "\u001b[0;32m~/git/Projet_MOGPL/algorithmesChemin.py\u001b[0m in \u001b[0;36m<listcomp>\u001b[0;34m(.0)\u001b[0m\n\u001b[1;32m     71\u001b[0m     \u001b[0;31m# On lie le noeud (start, 1) aux autres noeuds de la forme (start, X) du graphe\u001b[0m\u001b[0;34m\u001b[0m\u001b[0;34m\u001b[0m\u001b[0;34m\u001b[0m\u001b[0m\n\u001b[1;32m     72\u001b[0m     \u001b[0;32melse\u001b[0m \u001b[0;34m:\u001b[0m\u001b[0;34m\u001b[0m\u001b[0;34m\u001b[0m\u001b[0m\n\u001b[0;32m---> 73\u001b[0;31m         \u001b[0mlistAcces\u001b[0m \u001b[0;34m=\u001b[0m \u001b[0;34m[\u001b[0m\u001b[0;34m(\u001b[0m\u001b[0mi\u001b[0m\u001b[0;34m,\u001b[0m \u001b[0mj\u001b[0m\u001b[0;34m)\u001b[0m \u001b[0;32mfor\u001b[0m \u001b[0;34m(\u001b[0m\u001b[0mi\u001b[0m\u001b[0;34m,\u001b[0m \u001b[0mj\u001b[0m\u001b[0;34m)\u001b[0m \u001b[0;32min\u001b[0m \u001b[0mlist\u001b[0m\u001b[0;34m(\u001b[0m\u001b[0mgraphe\u001b[0m\u001b[0;34m.\u001b[0m\u001b[0mkeys\u001b[0m\u001b[0;34m(\u001b[0m\u001b[0;34m)\u001b[0m\u001b[0;34m)\u001b[0m \u001b[0;32mif\u001b[0m \u001b[0;34m(\u001b[0m\u001b[0mi\u001b[0m \u001b[0;34m==\u001b[0m \u001b[0mstart\u001b[0m\u001b[0;34m)\u001b[0m\u001b[0;34m]\u001b[0m\u001b[0;34m\u001b[0m\u001b[0;34m\u001b[0m\u001b[0m\n\u001b[0m\u001b[1;32m     74\u001b[0m         \u001b[0mgraphe\u001b[0m\u001b[0;34m[\u001b[0m\u001b[0;34m(\u001b[0m\u001b[0mstart\u001b[0m\u001b[0;34m,\u001b[0m \u001b[0;36m1\u001b[0m\u001b[0;34m)\u001b[0m\u001b[0;34m]\u001b[0m \u001b[0;34m=\u001b[0m \u001b[0mlistAcces\u001b[0m\u001b[0;34m\u001b[0m\u001b[0;34m\u001b[0m\u001b[0m\n\u001b[1;32m     75\u001b[0m \u001b[0;34m\u001b[0m\u001b[0m\n",
      "\u001b[0;31mValueError\u001b[0m: not enough values to unpack (expected 2, got 1)"
     ]
    }
   ],
   "source": [
    "z = np.zeros((4,4),dtype=tuple)\n",
    "for nb_sommets in range(4):\n",
    "    print(\"sommets:\",nb_sommets)\n",
    "    for nb_arcs in range(4):\n",
    "        print(\"arcs:\", nb_arcs)\n",
    "        t0 = time.time()\n",
    "        ac.cheminArriveeAuPlusTot(y[nb_sommets, nb_arcs],'a','k')\n",
    "        t1 = time.time() - t0\n",
    "        \n",
    "        t0 = time.time()\n",
    "        ac.cheminDepartAuPlusTard(y[nb_sommets, nb_arcs],'a','k')\n",
    "        t2 = time.time() - t0\n",
    "        \n",
    "        t0 = time.time()\n",
    "        ac.cheminPlusRapide(y[nb_sommets, nb_arcs],'a','k')\n",
    "        t3 = time.time() - t0\n",
    "        \n",
    "        t0 = time.time()\n",
    "        ac.cheminPlusCourt(y[nb_sommets, nb_arcs],'a','k')\n",
    "        t4 = time.time() - t0\n",
    "        \n",
    "        z[nb_sommets, nb_arcs] = (t1, t2, t3, t4)"
   ]
  }
 ],
 "metadata": {
  "kernelspec": {
   "display_name": "Python 3 (ipykernel)",
   "language": "python",
   "name": "python3"
  },
  "language_info": {
   "codemirror_mode": {
    "name": "ipython",
    "version": 3
   },
   "file_extension": ".py",
   "mimetype": "text/x-python",
   "name": "python",
   "nbconvert_exporter": "python",
   "pygments_lexer": "ipython3",
   "version": "3.8.12"
  }
 },
 "nbformat": 4,
 "nbformat_minor": 5
}
